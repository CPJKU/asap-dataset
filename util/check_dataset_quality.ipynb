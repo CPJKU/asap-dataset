{
 "cells": [
  {
   "cell_type": "code",
   "execution_count": 16,
   "metadata": {},
   "outputs": [
    {
     "name": "stderr",
     "output_type": "stream",
     "text": [
      "/home/fosfrancesco/miniconda3/envs/mir_research/lib/python3.8/site-packages/tqdm/std.py:668: FutureWarning: The Panel class is removed from pandas. Accessing it from the top-level namespace will also be removed in the next version\n",
      "  from pandas import Panel\n"
     ]
    }
   ],
   "source": [
    "import pandas as pd\n",
    "from pathlib import Path\n",
    "import util as u\n",
    "import importlib\n",
    "from tqdm import tqdm\n",
    "tqdm.pandas()\n",
    "\n",
    "\n",
    "BASE_PATH = \"../\""
   ]
  },
  {
   "cell_type": "code",
   "execution_count": 17,
   "metadata": {},
   "outputs": [
    {
     "data": {
      "text/html": [
       "<div>\n",
       "<style scoped>\n",
       "    .dataframe tbody tr th:only-of-type {\n",
       "        vertical-align: middle;\n",
       "    }\n",
       "\n",
       "    .dataframe tbody tr th {\n",
       "        vertical-align: top;\n",
       "    }\n",
       "\n",
       "    .dataframe thead th {\n",
       "        text-align: right;\n",
       "    }\n",
       "</style>\n",
       "<table border=\"1\" class=\"dataframe\">\n",
       "  <thead>\n",
       "    <tr style=\"text-align: right;\">\n",
       "      <th></th>\n",
       "      <th>composer</th>\n",
       "      <th>title</th>\n",
       "      <th>folder</th>\n",
       "      <th>xml_score</th>\n",
       "      <th>midi_score</th>\n",
       "      <th>midi_performance</th>\n",
       "      <th>performance_annotations</th>\n",
       "      <th>midi_score_annotations</th>\n",
       "      <th>maestro_midi_performance</th>\n",
       "      <th>maestro_audio_performance</th>\n",
       "      <th>start</th>\n",
       "      <th>end</th>\n",
       "      <th>audio_performance</th>\n",
       "    </tr>\n",
       "  </thead>\n",
       "  <tbody>\n",
       "    <tr>\n",
       "      <th>0</th>\n",
       "      <td>Bach</td>\n",
       "      <td>Fugue_bwv_846</td>\n",
       "      <td>Bach/Fugue/bwv_846</td>\n",
       "      <td>Bach/Fugue/bwv_846/xml_score.musicxml</td>\n",
       "      <td>Bach/Fugue/bwv_846/midi_score.mid</td>\n",
       "      <td>Bach/Fugue/bwv_846/Shi05M.mid</td>\n",
       "      <td>Bach/Fugue/bwv_846/Shi05M_annotations.txt</td>\n",
       "      <td>Bach/Fugue/bwv_846/midi_score_annotations.txt</td>\n",
       "      <td>{maestro}/2006/MIDI-Unprocessed_19_R1_2006_01-...</td>\n",
       "      <td>{maestro}/2006/MIDI-Unprocessed_19_R1_2006_01-...</td>\n",
       "      <td>144.567708</td>\n",
       "      <td>NaN</td>\n",
       "      <td>Bach/Fugue/bwv_846/Shi05M.wav</td>\n",
       "    </tr>\n",
       "    <tr>\n",
       "      <th>1</th>\n",
       "      <td>Bach</td>\n",
       "      <td>Fugue_bwv_848</td>\n",
       "      <td>Bach/Fugue/bwv_848</td>\n",
       "      <td>Bach/Fugue/bwv_848/xml_score.musicxml</td>\n",
       "      <td>Bach/Fugue/bwv_848/midi_score.mid</td>\n",
       "      <td>Bach/Fugue/bwv_848/Denisova06M.mid</td>\n",
       "      <td>Bach/Fugue/bwv_848/Denisova06M_annotations.txt</td>\n",
       "      <td>Bach/Fugue/bwv_848/midi_score_annotations.txt</td>\n",
       "      <td>{maestro}/2008/MIDI-Unprocessed_02_R1_2008_01-...</td>\n",
       "      <td>{maestro}/2008/MIDI-Unprocessed_02_R1_2008_01-...</td>\n",
       "      <td>69.317708</td>\n",
       "      <td>NaN</td>\n",
       "      <td>Bach/Fugue/bwv_848/Denisova06M.wav</td>\n",
       "    </tr>\n",
       "    <tr>\n",
       "      <th>2</th>\n",
       "      <td>Bach</td>\n",
       "      <td>Fugue_bwv_848</td>\n",
       "      <td>Bach/Fugue/bwv_848</td>\n",
       "      <td>Bach/Fugue/bwv_848/xml_score.musicxml</td>\n",
       "      <td>Bach/Fugue/bwv_848/midi_score.mid</td>\n",
       "      <td>Bach/Fugue/bwv_848/Lee01M.mid</td>\n",
       "      <td>Bach/Fugue/bwv_848/Lee01M_annotations.txt</td>\n",
       "      <td>Bach/Fugue/bwv_848/midi_score_annotations.txt</td>\n",
       "      <td>{maestro}/2011/MIDI-Unprocessed_08_R1_2011_MID...</td>\n",
       "      <td>{maestro}/2011/MIDI-Unprocessed_08_R1_2011_MID...</td>\n",
       "      <td>74.795573</td>\n",
       "      <td>NaN</td>\n",
       "      <td>Bach/Fugue/bwv_848/Lee01M.wav</td>\n",
       "    </tr>\n",
       "    <tr>\n",
       "      <th>3</th>\n",
       "      <td>Bach</td>\n",
       "      <td>Fugue_bwv_848</td>\n",
       "      <td>Bach/Fugue/bwv_848</td>\n",
       "      <td>Bach/Fugue/bwv_848/xml_score.musicxml</td>\n",
       "      <td>Bach/Fugue/bwv_848/midi_score.mid</td>\n",
       "      <td>Bach/Fugue/bwv_848/LeeSH01M.mid</td>\n",
       "      <td>Bach/Fugue/bwv_848/LeeSH01M_annotations.txt</td>\n",
       "      <td>Bach/Fugue/bwv_848/midi_score_annotations.txt</td>\n",
       "      <td>{maestro}/2017/MIDI-Unprocessed_049_PIANO049_M...</td>\n",
       "      <td>{maestro}/2017/MIDI-Unprocessed_049_PIANO049_M...</td>\n",
       "      <td>83.644792</td>\n",
       "      <td>NaN</td>\n",
       "      <td>Bach/Fugue/bwv_848/LeeSH01M.wav</td>\n",
       "    </tr>\n",
       "    <tr>\n",
       "      <th>4</th>\n",
       "      <td>Bach</td>\n",
       "      <td>Fugue_bwv_848</td>\n",
       "      <td>Bach/Fugue/bwv_848</td>\n",
       "      <td>Bach/Fugue/bwv_848/xml_score.musicxml</td>\n",
       "      <td>Bach/Fugue/bwv_848/midi_score.mid</td>\n",
       "      <td>Bach/Fugue/bwv_848/Lin04M.mid</td>\n",
       "      <td>Bach/Fugue/bwv_848/Lin04M_annotations.txt</td>\n",
       "      <td>Bach/Fugue/bwv_848/midi_score_annotations.txt</td>\n",
       "      <td>{maestro}/2008/MIDI-Unprocessed_10_R1_2008_01-...</td>\n",
       "      <td>{maestro}/2008/MIDI-Unprocessed_10_R1_2008_01-...</td>\n",
       "      <td>75.373698</td>\n",
       "      <td>NaN</td>\n",
       "      <td>Bach/Fugue/bwv_848/Lin04M.wav</td>\n",
       "    </tr>\n",
       "    <tr>\n",
       "      <th>...</th>\n",
       "      <td>...</td>\n",
       "      <td>...</td>\n",
       "      <td>...</td>\n",
       "      <td>...</td>\n",
       "      <td>...</td>\n",
       "      <td>...</td>\n",
       "      <td>...</td>\n",
       "      <td>...</td>\n",
       "      <td>...</td>\n",
       "      <td>...</td>\n",
       "      <td>...</td>\n",
       "      <td>...</td>\n",
       "      <td>...</td>\n",
       "    </tr>\n",
       "    <tr>\n",
       "      <th>1063</th>\n",
       "      <td>Scriabin</td>\n",
       "      <td>Sonatas_5</td>\n",
       "      <td>Scriabin/Sonatas/5</td>\n",
       "      <td>Scriabin/Sonatas/5/xml_score.musicxml</td>\n",
       "      <td>Scriabin/Sonatas/5/midi_score.mid</td>\n",
       "      <td>Scriabin/Sonatas/5/Na03.mid</td>\n",
       "      <td>Scriabin/Sonatas/5/Na03_annotations.txt</td>\n",
       "      <td>Scriabin/Sonatas/5/midi_score_annotations.txt</td>\n",
       "      <td>NaN</td>\n",
       "      <td>NaN</td>\n",
       "      <td>NaN</td>\n",
       "      <td>NaN</td>\n",
       "      <td>NaN</td>\n",
       "    </tr>\n",
       "    <tr>\n",
       "      <th>1064</th>\n",
       "      <td>Scriabin</td>\n",
       "      <td>Sonatas_5</td>\n",
       "      <td>Scriabin/Sonatas/5</td>\n",
       "      <td>Scriabin/Sonatas/5/xml_score.musicxml</td>\n",
       "      <td>Scriabin/Sonatas/5/midi_score.mid</td>\n",
       "      <td>Scriabin/Sonatas/5/Na07M.mid</td>\n",
       "      <td>Scriabin/Sonatas/5/Na07M_annotations.txt</td>\n",
       "      <td>Scriabin/Sonatas/5/midi_score_annotations.txt</td>\n",
       "      <td>{maestro}/2009/MIDI-Unprocessed_09_R1_2009_01-...</td>\n",
       "      <td>{maestro}/2009/MIDI-Unprocessed_09_R1_2009_01-...</td>\n",
       "      <td>NaN</td>\n",
       "      <td>NaN</td>\n",
       "      <td>Scriabin/Sonatas/5/Na07M.wav</td>\n",
       "    </tr>\n",
       "    <tr>\n",
       "      <th>1065</th>\n",
       "      <td>Scriabin</td>\n",
       "      <td>Sonatas_5</td>\n",
       "      <td>Scriabin/Sonatas/5</td>\n",
       "      <td>Scriabin/Sonatas/5/xml_score.musicxml</td>\n",
       "      <td>Scriabin/Sonatas/5/midi_score.mid</td>\n",
       "      <td>Scriabin/Sonatas/5/TET02.mid</td>\n",
       "      <td>Scriabin/Sonatas/5/TET02_annotations.txt</td>\n",
       "      <td>Scriabin/Sonatas/5/midi_score_annotations.txt</td>\n",
       "      <td>NaN</td>\n",
       "      <td>NaN</td>\n",
       "      <td>NaN</td>\n",
       "      <td>NaN</td>\n",
       "      <td>NaN</td>\n",
       "    </tr>\n",
       "    <tr>\n",
       "      <th>1066</th>\n",
       "      <td>Scriabin</td>\n",
       "      <td>Sonatas_5</td>\n",
       "      <td>Scriabin/Sonatas/5</td>\n",
       "      <td>Scriabin/Sonatas/5/xml_score.musicxml</td>\n",
       "      <td>Scriabin/Sonatas/5/midi_score.mid</td>\n",
       "      <td>Scriabin/Sonatas/5/Yeletskiy02.mid</td>\n",
       "      <td>Scriabin/Sonatas/5/Yeletskiy02_annotations.txt</td>\n",
       "      <td>Scriabin/Sonatas/5/midi_score_annotations.txt</td>\n",
       "      <td>NaN</td>\n",
       "      <td>NaN</td>\n",
       "      <td>NaN</td>\n",
       "      <td>NaN</td>\n",
       "      <td>NaN</td>\n",
       "    </tr>\n",
       "    <tr>\n",
       "      <th>1067</th>\n",
       "      <td>Scriabin</td>\n",
       "      <td>Sonatas_5</td>\n",
       "      <td>Scriabin/Sonatas/5</td>\n",
       "      <td>Scriabin/Sonatas/5/xml_score.musicxml</td>\n",
       "      <td>Scriabin/Sonatas/5/midi_score.mid</td>\n",
       "      <td>Scriabin/Sonatas/5/Yeletskiy07M.mid</td>\n",
       "      <td>Scriabin/Sonatas/5/Yeletskiy07M_annotations.txt</td>\n",
       "      <td>Scriabin/Sonatas/5/midi_score_annotations.txt</td>\n",
       "      <td>{maestro}/2009/MIDI-Unprocessed_19_R1_2009_03-...</td>\n",
       "      <td>{maestro}/2009/MIDI-Unprocessed_19_R1_2009_03-...</td>\n",
       "      <td>NaN</td>\n",
       "      <td>NaN</td>\n",
       "      <td>Scriabin/Sonatas/5/Yeletskiy07M.wav</td>\n",
       "    </tr>\n",
       "  </tbody>\n",
       "</table>\n",
       "<p>1068 rows × 13 columns</p>\n",
       "</div>"
      ],
      "text/plain": [
       "      composer          title              folder  \\\n",
       "0         Bach  Fugue_bwv_846  Bach/Fugue/bwv_846   \n",
       "1         Bach  Fugue_bwv_848  Bach/Fugue/bwv_848   \n",
       "2         Bach  Fugue_bwv_848  Bach/Fugue/bwv_848   \n",
       "3         Bach  Fugue_bwv_848  Bach/Fugue/bwv_848   \n",
       "4         Bach  Fugue_bwv_848  Bach/Fugue/bwv_848   \n",
       "...        ...            ...                 ...   \n",
       "1063  Scriabin      Sonatas_5  Scriabin/Sonatas/5   \n",
       "1064  Scriabin      Sonatas_5  Scriabin/Sonatas/5   \n",
       "1065  Scriabin      Sonatas_5  Scriabin/Sonatas/5   \n",
       "1066  Scriabin      Sonatas_5  Scriabin/Sonatas/5   \n",
       "1067  Scriabin      Sonatas_5  Scriabin/Sonatas/5   \n",
       "\n",
       "                                  xml_score  \\\n",
       "0     Bach/Fugue/bwv_846/xml_score.musicxml   \n",
       "1     Bach/Fugue/bwv_848/xml_score.musicxml   \n",
       "2     Bach/Fugue/bwv_848/xml_score.musicxml   \n",
       "3     Bach/Fugue/bwv_848/xml_score.musicxml   \n",
       "4     Bach/Fugue/bwv_848/xml_score.musicxml   \n",
       "...                                     ...   \n",
       "1063  Scriabin/Sonatas/5/xml_score.musicxml   \n",
       "1064  Scriabin/Sonatas/5/xml_score.musicxml   \n",
       "1065  Scriabin/Sonatas/5/xml_score.musicxml   \n",
       "1066  Scriabin/Sonatas/5/xml_score.musicxml   \n",
       "1067  Scriabin/Sonatas/5/xml_score.musicxml   \n",
       "\n",
       "                             midi_score                     midi_performance  \\\n",
       "0     Bach/Fugue/bwv_846/midi_score.mid        Bach/Fugue/bwv_846/Shi05M.mid   \n",
       "1     Bach/Fugue/bwv_848/midi_score.mid   Bach/Fugue/bwv_848/Denisova06M.mid   \n",
       "2     Bach/Fugue/bwv_848/midi_score.mid        Bach/Fugue/bwv_848/Lee01M.mid   \n",
       "3     Bach/Fugue/bwv_848/midi_score.mid      Bach/Fugue/bwv_848/LeeSH01M.mid   \n",
       "4     Bach/Fugue/bwv_848/midi_score.mid        Bach/Fugue/bwv_848/Lin04M.mid   \n",
       "...                                 ...                                  ...   \n",
       "1063  Scriabin/Sonatas/5/midi_score.mid          Scriabin/Sonatas/5/Na03.mid   \n",
       "1064  Scriabin/Sonatas/5/midi_score.mid         Scriabin/Sonatas/5/Na07M.mid   \n",
       "1065  Scriabin/Sonatas/5/midi_score.mid         Scriabin/Sonatas/5/TET02.mid   \n",
       "1066  Scriabin/Sonatas/5/midi_score.mid   Scriabin/Sonatas/5/Yeletskiy02.mid   \n",
       "1067  Scriabin/Sonatas/5/midi_score.mid  Scriabin/Sonatas/5/Yeletskiy07M.mid   \n",
       "\n",
       "                              performance_annotations  \\\n",
       "0           Bach/Fugue/bwv_846/Shi05M_annotations.txt   \n",
       "1      Bach/Fugue/bwv_848/Denisova06M_annotations.txt   \n",
       "2           Bach/Fugue/bwv_848/Lee01M_annotations.txt   \n",
       "3         Bach/Fugue/bwv_848/LeeSH01M_annotations.txt   \n",
       "4           Bach/Fugue/bwv_848/Lin04M_annotations.txt   \n",
       "...                                               ...   \n",
       "1063          Scriabin/Sonatas/5/Na03_annotations.txt   \n",
       "1064         Scriabin/Sonatas/5/Na07M_annotations.txt   \n",
       "1065         Scriabin/Sonatas/5/TET02_annotations.txt   \n",
       "1066   Scriabin/Sonatas/5/Yeletskiy02_annotations.txt   \n",
       "1067  Scriabin/Sonatas/5/Yeletskiy07M_annotations.txt   \n",
       "\n",
       "                             midi_score_annotations  \\\n",
       "0     Bach/Fugue/bwv_846/midi_score_annotations.txt   \n",
       "1     Bach/Fugue/bwv_848/midi_score_annotations.txt   \n",
       "2     Bach/Fugue/bwv_848/midi_score_annotations.txt   \n",
       "3     Bach/Fugue/bwv_848/midi_score_annotations.txt   \n",
       "4     Bach/Fugue/bwv_848/midi_score_annotations.txt   \n",
       "...                                             ...   \n",
       "1063  Scriabin/Sonatas/5/midi_score_annotations.txt   \n",
       "1064  Scriabin/Sonatas/5/midi_score_annotations.txt   \n",
       "1065  Scriabin/Sonatas/5/midi_score_annotations.txt   \n",
       "1066  Scriabin/Sonatas/5/midi_score_annotations.txt   \n",
       "1067  Scriabin/Sonatas/5/midi_score_annotations.txt   \n",
       "\n",
       "                               maestro_midi_performance  \\\n",
       "0     {maestro}/2006/MIDI-Unprocessed_19_R1_2006_01-...   \n",
       "1     {maestro}/2008/MIDI-Unprocessed_02_R1_2008_01-...   \n",
       "2     {maestro}/2011/MIDI-Unprocessed_08_R1_2011_MID...   \n",
       "3     {maestro}/2017/MIDI-Unprocessed_049_PIANO049_M...   \n",
       "4     {maestro}/2008/MIDI-Unprocessed_10_R1_2008_01-...   \n",
       "...                                                 ...   \n",
       "1063                                                NaN   \n",
       "1064  {maestro}/2009/MIDI-Unprocessed_09_R1_2009_01-...   \n",
       "1065                                                NaN   \n",
       "1066                                                NaN   \n",
       "1067  {maestro}/2009/MIDI-Unprocessed_19_R1_2009_03-...   \n",
       "\n",
       "                              maestro_audio_performance       start  end  \\\n",
       "0     {maestro}/2006/MIDI-Unprocessed_19_R1_2006_01-...  144.567708  NaN   \n",
       "1     {maestro}/2008/MIDI-Unprocessed_02_R1_2008_01-...   69.317708  NaN   \n",
       "2     {maestro}/2011/MIDI-Unprocessed_08_R1_2011_MID...   74.795573  NaN   \n",
       "3     {maestro}/2017/MIDI-Unprocessed_049_PIANO049_M...   83.644792  NaN   \n",
       "4     {maestro}/2008/MIDI-Unprocessed_10_R1_2008_01-...   75.373698  NaN   \n",
       "...                                                 ...         ...  ...   \n",
       "1063                                                NaN         NaN  NaN   \n",
       "1064  {maestro}/2009/MIDI-Unprocessed_09_R1_2009_01-...         NaN  NaN   \n",
       "1065                                                NaN         NaN  NaN   \n",
       "1066                                                NaN         NaN  NaN   \n",
       "1067  {maestro}/2009/MIDI-Unprocessed_19_R1_2009_03-...         NaN  NaN   \n",
       "\n",
       "                        audio_performance  \n",
       "0           Bach/Fugue/bwv_846/Shi05M.wav  \n",
       "1      Bach/Fugue/bwv_848/Denisova06M.wav  \n",
       "2           Bach/Fugue/bwv_848/Lee01M.wav  \n",
       "3         Bach/Fugue/bwv_848/LeeSH01M.wav  \n",
       "4           Bach/Fugue/bwv_848/Lin04M.wav  \n",
       "...                                   ...  \n",
       "1063                                  NaN  \n",
       "1064         Scriabin/Sonatas/5/Na07M.wav  \n",
       "1065                                  NaN  \n",
       "1066                                  NaN  \n",
       "1067  Scriabin/Sonatas/5/Yeletskiy07M.wav  \n",
       "\n",
       "[1068 rows x 13 columns]"
      ]
     },
     "execution_count": 17,
     "metadata": {},
     "output_type": "execute_result"
    }
   ],
   "source": [
    "all_df = pd.read_csv(Path(BASE_PATH,\"metadata.csv\"))\n",
    "all_df"
   ]
  },
  {
   "cell_type": "markdown",
   "metadata": {},
   "source": [
    "# Check all midi scores"
   ]
  },
  {
   "cell_type": "code",
   "execution_count": 3,
   "metadata": {},
   "outputs": [],
   "source": [
    "quant_df = all_df.drop_duplicates(subset=\"midi_score_annotations\",keep=\"first\")"
   ]
  },
  {
   "cell_type": "code",
   "execution_count": 13,
   "metadata": {},
   "outputs": [
    {
     "data": {
      "text/plain": [
       "0       None\n",
       "1       None\n",
       "10      None\n",
       "15      None\n",
       "16      None\n",
       "        ... \n",
       "1046    None\n",
       "1049    None\n",
       "1053    None\n",
       "1055    None\n",
       "1058    None\n",
       "Length: 235, dtype: object"
      ]
     },
     "execution_count": 13,
     "metadata": {},
     "output_type": "execute_result"
    }
   ],
   "source": [
    "#Check early/late db/b\n",
    "quant_df.apply(lambda row: u.check_late_early_annot(str(Path(BASE_PATH,row[\"midi_score\"])),str(Path(BASE_PATH,row[\"midi_score_annotations\"]))),axis = 1)"
   ]
  },
  {
   "cell_type": "code",
   "execution_count": 12,
   "metadata": {},
   "outputs": [
    {
     "data": {
      "text/plain": [
       "0       None\n",
       "1       None\n",
       "10      None\n",
       "15      None\n",
       "16      None\n",
       "        ... \n",
       "1046    None\n",
       "1049    None\n",
       "1053    None\n",
       "1055    None\n",
       "1058    None\n",
       "Length: 235, dtype: object"
      ]
     },
     "execution_count": 12,
     "metadata": {},
     "output_type": "execute_result"
    }
   ],
   "source": [
    "#check correct type\n",
    "quant_df.apply(lambda row: u.check_annotation_text(str(Path(BASE_PATH,row[\"midi_score_annotations\"]))),axis = 1)"
   ]
  },
  {
   "cell_type": "code",
   "execution_count": 11,
   "metadata": {},
   "outputs": [
    {
     "data": {
      "text/plain": [
       "0       None\n",
       "1       None\n",
       "10      None\n",
       "15      None\n",
       "16      None\n",
       "        ... \n",
       "1046    None\n",
       "1049    None\n",
       "1053    None\n",
       "1055    None\n",
       "1058    None\n",
       "Length: 235, dtype: object"
      ]
     },
     "execution_count": 11,
     "metadata": {},
     "output_type": "execute_result"
    }
   ],
   "source": [
    "#check correct ratio beats downbeats (according to the local time signature)\n",
    "quant_df.apply(lambda row: u.check_b_db_ratio(str(Path(BASE_PATH,row[\"midi_score_annotations\"]))),axis = 1)"
   ]
  },
  {
   "cell_type": "code",
   "execution_count": 14,
   "metadata": {},
   "outputs": [
    {
     "data": {
      "text/plain": [
       "0       [1, 2, 3, 4, 5, 6, 7, 8, 9, 10, 11, 12, 13, 14...\n",
       "1       [1, 2, 3, 4, 5, 6, 7, 8, 9, 10, 11, 12, 13, 14...\n",
       "10      [1, 2, 3, 4, 5, 6, 7, 8, 9, 10, 11, 12, 13, 14...\n",
       "15      [1, 2, 3, 4, 5, 6, 7, 8, 9, 10, 11, 12, 13, 14...\n",
       "16      [1, 2, 3, 4, 5, 6, 7, 8, 9, 10, 11, 12, 13, 14...\n",
       "                              ...                        \n",
       "1046    [1, 2, 3, 4, 5, 6, 7, 8, 1, 2, 3, 4, 5, 6, 7, ...\n",
       "1049    [0, 1, 2, 3, 4, 5, 6, 7, 8, 9, 10, 11, 12, 13,...\n",
       "1053    [0, 1, 2, 3, 4, 5, 6, 7, 8, 9, 10, 11, 12, 13,...\n",
       "1055    [0, 1, 2, 3, 4, 5, 6, 7, 8, 9, 10, 11, 12, 13,...\n",
       "1058    [0, 1, 2, 3, 4, 5, 6, 7, 8, 9, 10, 11, 12, 13,...\n",
       "Length: 235, dtype: object"
      ]
     },
     "execution_count": 14,
     "metadata": {},
     "output_type": "execute_result"
    }
   ],
   "source": [
    "#check if the number of db in annotations is the same of the (corrected) number of measures in the score\n",
    "quant_df.apply(lambda row: u.same_number_of_measures_with_repetitions(row[\"xml_score\"],str(Path(BASE_PATH,row[\"midi_score_annotations\"])),base_path=BASE_PATH),axis = 1)"
   ]
  },
  {
   "cell_type": "markdown",
   "metadata": {},
   "source": [
    "# Check all performances"
   ]
  },
  {
   "cell_type": "code",
   "execution_count": 18,
   "metadata": {
    "scrolled": true
   },
   "outputs": [
    {
     "name": "stderr",
     "output_type": "stream",
     "text": [
      "100%|██████████| 1068/1068 [02:37<00:00,  6.78it/s]\n"
     ]
    },
    {
     "data": {
      "text/plain": [
       "0       None\n",
       "1       None\n",
       "2       None\n",
       "3       None\n",
       "4       None\n",
       "        ... \n",
       "1063    None\n",
       "1064    None\n",
       "1065    None\n",
       "1066    None\n",
       "1067    None\n",
       "Length: 1068, dtype: object"
      ]
     },
     "execution_count": 18,
     "metadata": {},
     "output_type": "execute_result"
    }
   ],
   "source": [
    "#Check early/late db/b\n",
    "all_df.progress_apply(lambda row: u.check_late_early_annot(str(Path(BASE_PATH,row[\"midi_performance\"])),str(Path(BASE_PATH,row[\"performance_annotations\"]))),axis = 1)"
   ]
  },
  {
   "cell_type": "code",
   "execution_count": 19,
   "metadata": {},
   "outputs": [
    {
     "name": "stderr",
     "output_type": "stream",
     "text": [
      "100%|██████████| 1068/1068 [01:00<00:00, 17.59it/s]\n"
     ]
    },
    {
     "data": {
      "text/plain": [
       "0       None\n",
       "1       None\n",
       "2       None\n",
       "3       None\n",
       "4       None\n",
       "        ... \n",
       "1063    None\n",
       "1064    None\n",
       "1065    None\n",
       "1066    None\n",
       "1067    None\n",
       "Length: 1068, dtype: object"
      ]
     },
     "execution_count": 19,
     "metadata": {},
     "output_type": "execute_result"
    }
   ],
   "source": [
    "#check correct type\n",
    "all_df.progress_apply(lambda row: u.check_annotation_text(str(Path(BASE_PATH,row[\"performance_annotations\"])),allow_W_flag = False),axis = 1)"
   ]
  },
  {
   "cell_type": "code",
   "execution_count": 20,
   "metadata": {
    "scrolled": true
   },
   "outputs": [
    {
     "name": "stderr",
     "output_type": "stream",
     "text": [
      "100%|██████████| 1068/1068 [00:54<00:00, 19.76it/s]\n"
     ]
    },
    {
     "data": {
      "text/plain": [
       "0       None\n",
       "1       None\n",
       "2       None\n",
       "3       None\n",
       "4       None\n",
       "        ... \n",
       "1063    None\n",
       "1064    None\n",
       "1065    None\n",
       "1066    None\n",
       "1067    None\n",
       "Length: 1068, dtype: object"
      ]
     },
     "execution_count": 20,
     "metadata": {},
     "output_type": "execute_result"
    }
   ],
   "source": [
    "#check b,db correct ratio\n",
    "all_df.progress_apply(lambda row: u.check_b_db_ratio(str(Path(BASE_PATH,row[\"performance_annotations\"]))),axis = 1)"
   ]
  },
  {
   "cell_type": "code",
   "execution_count": 21,
   "metadata": {},
   "outputs": [
    {
     "name": "stderr",
     "output_type": "stream",
     "text": [
      " 19%|█▉        | 206/1068 [00:11<01:43,  8.30it/s]"
     ]
    },
    {
     "name": "stdout",
     "output_type": "stream",
     "text": [
      "Different length of annotations for ../Beethoven/Piano_Sonatas/16-1/LuoJ03M_annotations.txt: 648 (ms) vs 646 (perf) \n"
     ]
    },
    {
     "name": "stderr",
     "output_type": "stream",
     "text": [
      " 20%|██        | 214/1068 [00:12<02:59,  4.75it/s]"
     ]
    },
    {
     "name": "stdout",
     "output_type": "stream",
     "text": [
      "Different length of annotations for ../Beethoven/Piano_Sonatas/17-1/USHIKI05_annotations.txt: 1273 (ms) vs 1265 (perf) \n"
     ]
    },
    {
     "name": "stderr",
     "output_type": "stream",
     "text": [
      " 21%|██        | 226/1068 [00:14<01:43,  8.12it/s]"
     ]
    },
    {
     "name": "stdout",
     "output_type": "stream",
     "text": [
      "Different length of annotations for ../Beethoven/Piano_Sonatas/17-2/KaszoS10_annotations.txt: 309 (ms) vs 360 (perf) \n",
      "Different length of annotations for ../Beethoven/Piano_Sonatas/17-3/KaszoS11M_annotations.txt: 1478 (ms) vs 1454 (perf) \n"
     ]
    },
    {
     "name": "stderr",
     "output_type": "stream",
     "text": [
      " 23%|██▎       | 243/1068 [00:16<01:11, 11.54it/s]"
     ]
    },
    {
     "name": "stdout",
     "output_type": "stream",
     "text": [
      "Different length of annotations for ../Beethoven/Piano_Sonatas/18-3/KOLESO06_annotations.txt: 347 (ms) vs 299 (perf) \n"
     ]
    },
    {
     "name": "stderr",
     "output_type": "stream",
     "text": [
      " 24%|██▎       | 251/1068 [00:17<02:48,  4.84it/s]"
     ]
    },
    {
     "name": "stdout",
     "output_type": "stream",
     "text": [
      "Different length of annotations for ../Beethoven/Piano_Sonatas/21-1/Sekino05M_annotations.txt: 1545 (ms) vs 1205 (perf) \n"
     ]
    },
    {
     "name": "stderr",
     "output_type": "stream",
     "text": [
      " 24%|██▎       | 253/1068 [00:18<02:50,  4.79it/s]"
     ]
    },
    {
     "name": "stdout",
     "output_type": "stream",
     "text": [
      "Different length of annotations for ../Beethoven/Piano_Sonatas/21-1/YOO05_annotations.txt: 1545 (ms) vs 1205 (perf) \n"
     ]
    },
    {
     "name": "stderr",
     "output_type": "stream",
     "text": [
      " 29%|██▉       | 313/1068 [00:27<01:22,  9.17it/s]"
     ]
    },
    {
     "name": "stdout",
     "output_type": "stream",
     "text": [
      "Different length of annotations for ../Beethoven/Piano_Sonatas/24-2/Lisiecki05M_annotations.txt: 365 (ms) vs 363 (perf) \n"
     ]
    },
    {
     "name": "stderr",
     "output_type": "stream",
     "text": [
      " 33%|███▎      | 351/1068 [00:31<01:21,  8.75it/s]"
     ]
    },
    {
     "name": "stdout",
     "output_type": "stream",
     "text": [
      "Different length of annotations for ../Beethoven/Piano_Sonatas/29-4/DANILO01_annotations.txt: 1222 (ms) vs 1237 (perf) \n"
     ]
    },
    {
     "name": "stderr",
     "output_type": "stream",
     "text": [
      " 33%|███▎      | 357/1068 [00:32<01:55,  6.13it/s]"
     ]
    },
    {
     "name": "stdout",
     "output_type": "stream",
     "text": [
      "Different length of annotations for ../Beethoven/Piano_Sonatas/3-1/LUO01_annotations.txt: 1064 (ms) vs 1056 (perf) \n"
     ]
    },
    {
     "name": "stderr",
     "output_type": "stream",
     "text": [
      " 38%|███▊      | 405/1068 [00:35<00:54, 12.20it/s]"
     ]
    },
    {
     "name": "stdout",
     "output_type": "stream",
     "text": [
      "Different length of annotations for ../Beethoven/Piano_Sonatas/31-3_4/HuangSW10M_annotations.txt: 528 (ms) vs 491 (perf) \n"
     ]
    },
    {
     "name": "stderr",
     "output_type": "stream",
     "text": [
      " 43%|████▎     | 464/1068 [00:41<01:01,  9.86it/s]"
     ]
    },
    {
     "name": "stdout",
     "output_type": "stream",
     "text": [
      "Different length of annotations for ../Chopin/Ballades/1/MunA19M_annotations.txt: 653 (ms) vs 650 (perf) \n"
     ]
    },
    {
     "name": "stderr",
     "output_type": "stream",
     "text": [
      " 48%|████▊     | 516/1068 [00:45<00:29, 18.84it/s]"
     ]
    },
    {
     "name": "stdout",
     "output_type": "stream",
     "text": [
      "Different length of annotations for ../Chopin/Etudes_op_10/1/LuM02M_annotations.txt: 313 (ms) vs 312 (perf) \n"
     ]
    },
    {
     "name": "stderr",
     "output_type": "stream",
     "text": [
      " 64%|██████▍   | 685/1068 [00:54<00:38,  9.95it/s]"
     ]
    },
    {
     "name": "stdout",
     "output_type": "stream",
     "text": [
      "Different length of annotations for ../Chopin/Scherzos/20/Wong04M_annotations.txt: 1873 (ms) vs 1861 (perf) \n"
     ]
    },
    {
     "name": "stderr",
     "output_type": "stream",
     "text": [
      " 79%|███████▉  | 847/1068 [01:12<00:28,  7.88it/s]"
     ]
    },
    {
     "name": "stdout",
     "output_type": "stream",
     "text": [
      "Different length of annotations for ../Liszt/Mephisto_Waltz/Avdeeva07M_annotations.txt: 2602 (ms) vs 2599 (perf) \n"
     ]
    },
    {
     "name": "stderr",
     "output_type": "stream",
     "text": [
      " 81%|████████  | 866/1068 [01:20<01:23,  2.41it/s]"
     ]
    },
    {
     "name": "stdout",
     "output_type": "stream",
     "text": [
      "Different length of annotations for ../Liszt/Sonata/Yeletskiy05M_annotations.txt: 2632 (ms) vs 2630 (perf) \n"
     ]
    },
    {
     "name": "stderr",
     "output_type": "stream",
     "text": [
      " 82%|████████▏ | 871/1068 [01:21<00:59,  3.29it/s]"
     ]
    },
    {
     "name": "stdout",
     "output_type": "stream",
     "text": [
      "Different length of annotations for ../Liszt/Sonata/Zuber07M_annotations.txt: 2632 (ms) vs 2628 (perf) \n"
     ]
    },
    {
     "name": "stderr",
     "output_type": "stream",
     "text": [
      " 84%|████████▍ | 895/1068 [01:23<00:17,  9.89it/s]"
     ]
    },
    {
     "name": "stdout",
     "output_type": "stream",
     "text": [
      "Different length of annotations for ../Liszt/Transcendental_Etudes/4/LeeE04M_annotations.txt: 682 (ms) vs 681 (perf) \n"
     ]
    },
    {
     "name": "stderr",
     "output_type": "stream",
     "text": [
      " 88%|████████▊ | 943/1068 [01:26<00:06, 18.85it/s]"
     ]
    },
    {
     "name": "stdout",
     "output_type": "stream",
     "text": [
      "Different length of annotations for ../Rachmaninoff/Preludes_op_32/10/FONG08_annotations.txt: 241 (ms) vs 192 (perf) \n"
     ]
    },
    {
     "name": "stderr",
     "output_type": "stream",
     "text": [
      " 90%|████████▉ | 956/1068 [01:27<00:07, 15.09it/s]"
     ]
    },
    {
     "name": "stdout",
     "output_type": "stream",
     "text": [
      "Different length of annotations for ../Ravel/Miroirs/4_Alborada_del_gracioso/CHOE02_annotations.txt: 547 (ms) vs 544 (perf) \n"
     ]
    },
    {
     "name": "stderr",
     "output_type": "stream",
     "text": [
      " 90%|█████████ | 964/1068 [01:27<00:08, 11.57it/s]"
     ]
    },
    {
     "name": "stdout",
     "output_type": "stream",
     "text": [
      "Different length of annotations for ../Ravel/Miroirs/4_Alborada_del_gracioso/Shamray08_annotations.txt: 547 (ms) vs 544 (perf) \n"
     ]
    },
    {
     "name": "stderr",
     "output_type": "stream",
     "text": [
      " 93%|█████████▎| 998/1068 [01:31<00:09,  7.23it/s]"
     ]
    },
    {
     "name": "stdout",
     "output_type": "stream",
     "text": [
      "Different length of annotations for ../Schubert/Impromptu_op142/1/Lisiecki10M_annotations.txt: 993 (ms) vs 1097 (perf) \n"
     ]
    },
    {
     "name": "stderr",
     "output_type": "stream",
     "text": [
      " 94%|█████████▍| 1002/1068 [01:31<00:06,  9.64it/s]"
     ]
    },
    {
     "name": "stdout",
     "output_type": "stream",
     "text": [
      "Different length of annotations for ../Schubert/Impromptu_op142/3/Richardson07M_annotations.txt: 431 (ms) vs 415 (perf) \n",
      "Different length of annotations for ../Schubert/Impromptu_op142/3/SunY08M_annotations.txt: 431 (ms) vs 351 (perf) \n"
     ]
    },
    {
     "name": "stderr",
     "output_type": "stream",
     "text": [
      " 97%|█████████▋| 1035/1068 [01:35<00:04,  7.85it/s]"
     ]
    },
    {
     "name": "stdout",
     "output_type": "stream",
     "text": [
      "Different length of annotations for ../Schumann/Kreisleriana/2/JohannsonP03_annotations.txt: 594 (ms) vs 486 (perf) \n"
     ]
    },
    {
     "name": "stderr",
     "output_type": "stream",
     "text": [
      " 98%|█████████▊| 1044/1068 [01:35<00:01, 12.06it/s]"
     ]
    },
    {
     "name": "stdout",
     "output_type": "stream",
     "text": [
      "Different length of annotations for ../Schumann/Kreisleriana/5/JohannsonP06_annotations.txt: 518 (ms) vs 517 (perf) \n"
     ]
    },
    {
     "name": "stderr",
     "output_type": "stream",
     "text": [
      " 99%|█████████▉| 1060/1068 [01:36<00:00, 12.81it/s]"
     ]
    },
    {
     "name": "stdout",
     "output_type": "stream",
     "text": [
      "Different length of annotations for ../Scriabin/Sonatas/5/ChernovA06M_annotations.txt: 1003 (ms) vs 979 (perf) \n",
      "Different length of annotations for ../Scriabin/Sonatas/5/FALIKS06_annotations.txt: 1003 (ms) vs 993 (perf) \n"
     ]
    },
    {
     "name": "stderr",
     "output_type": "stream",
     "text": [
      "100%|█████████▉| 1064/1068 [01:37<00:00,  8.37it/s]"
     ]
    },
    {
     "name": "stdout",
     "output_type": "stream",
     "text": [
      "Different length of annotations for ../Scriabin/Sonatas/5/Ko07M_annotations.txt: 1003 (ms) vs 1000 (perf) \n"
     ]
    },
    {
     "name": "stderr",
     "output_type": "stream",
     "text": [
      "100%|██████████| 1068/1068 [01:38<00:00, 10.88it/s]\n"
     ]
    },
    {
     "data": {
      "text/plain": [
       "0       True\n",
       "1       True\n",
       "2       True\n",
       "3       True\n",
       "4       True\n",
       "        ... \n",
       "1063    True\n",
       "1064    True\n",
       "1065    True\n",
       "1066    True\n",
       "1067    True\n",
       "Length: 1068, dtype: bool"
      ]
     },
     "execution_count": 21,
     "metadata": {},
     "output_type": "execute_result"
    }
   ],
   "source": [
    "# check if performances and midi scores have the same number and type of annotations\n",
    "importlib.reload(u)\n",
    "all_df.progress_apply(lambda row: u.midi_score_and_perf_aligned(str(Path(BASE_PATH,row[\"performance_annotations\"])),str(Path(BASE_PATH,row[\"midi_score_annotations\"])),verbose=True),axis = 1)"
   ]
  },
  {
   "cell_type": "code",
   "execution_count": null,
   "metadata": {},
   "outputs": [],
   "source": []
  }
 ],
 "metadata": {
  "kernelspec": {
   "display_name": "Python 3",
   "language": "python",
   "name": "python3"
  },
  "language_info": {
   "codemirror_mode": {
    "name": "ipython",
    "version": 3
   },
   "file_extension": ".py",
   "mimetype": "text/x-python",
   "name": "python",
   "nbconvert_exporter": "python",
   "pygments_lexer": "ipython3",
   "version": "3.8.2"
  }
 },
 "nbformat": 4,
 "nbformat_minor": 4
}
